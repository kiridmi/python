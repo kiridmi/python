{
 "cells": [
  {
   "cell_type": "markdown",
   "metadata": {},
   "source": [
    "# A script to retrieve weather data from Openweathermap API and export it into an HTML report\n",
    "## Resources used:\n",
    "### Open Weather Map API documentation:\n",
    "- https://openweathermap.org/current\n",
    "- https://openweathermap.org/api/one-call-api\n",
    "\n",
    "### Converting UNIX timestamps to datetime:\n",
    "- https://stackabuse.com/converting-strings-to-datetime-in-python/\n",
    "\n",
    "### Plotly line chart documentation:\n",
    "- https://plotly.com/python/line-charts/\n",
    "\n",
    "### Plotly static image export:\n",
    "- https://plotly.com/python/static-image-export/"
   ]
  },
  {
   "cell_type": "code",
   "execution_count": 1,
   "metadata": {},
   "outputs": [],
   "source": [
    "import json\n",
    "import requests\n",
    "import time\n",
    "from datetime import datetime as dt\n",
    "import pandas as pd\n",
    "import plotly.graph_objects as go\n",
    "import os\n",
    "if not os.path.exists(\"images\"):\n",
    "    os.mkdir(\"images\")"
   ]
  },
  {
   "cell_type": "code",
   "execution_count": 2,
   "metadata": {},
   "outputs": [],
   "source": [
    "# vispirms izmantojam \"Current Weather Data API\", meklējot pēc pilsētas nosaukuma\n",
    "# JSON atbildē, pirmā atslēga ir \"coords\", jeb koordinātes, kuras ir nepieciešamas lai pieprasīt pilnu prognozi\n",
    "\n",
    "def GetCoordinates(): \n",
    "    valid_input = False\n",
    "    while valid_input == False:\n",
    "        cityname = input(\"Please enter city name: \")\n",
    "        req_coords = f\"https://api.openweathermap.org/data/2.5/weather?q={cityname}&appid=c0a536afbc99f8d403c245f5f0a0158a\"\n",
    "        response = requests.get(req_coords)\n",
    "        if response.status_code != 200:\n",
    "            print(f\"Error getting coordinates: {response.status_code}, {response.json().get('message')}\")\n",
    "        else:\n",
    "            coords = response.json().get('coord')\n",
    "            return coords,cityname\n",
    "\n",
    "# Otrai funkcijai padodam koordinātes no pirmās funkcijas, tas ļaus pieprasīt pilnu prognozi\n",
    "def GetWeatherData(coordinates):\n",
    "    lon = coordinates['lon']\n",
    "    lat = coordinates['lat']\n",
    "    req_data = f\"https://api.openweathermap.org/data/2.5/onecall?lat={lat}&lon={lon}&exclude=minutely&appid=c0a536afbc99f8d403c245f5f0a0158a&units=metric\"\n",
    "    weather_data = requests.get(req_data)\n",
    "    return weather_data\n",
    "    "
   ]
  },
  {
   "cell_type": "code",
   "execution_count": 3,
   "metadata": {},
   "outputs": [
    {
     "name": "stdout",
     "output_type": "stream",
     "text": [
      "Please enter city name: New York\n"
     ]
    }
   ],
   "source": [
    "city_info = GetCoordinates() # fukcijas atgriež tuple ar koordinātēm un pilsētas nosaukumu\n",
    "cityname = city_info[1] # saglabājam pilsētas nosaukumu, lai vēlāk to var izmantot atskaitē\n",
    "forecast = GetWeatherData(city_info[0])"
   ]
  },
  {
   "cell_type": "code",
   "execution_count": 4,
   "metadata": {},
   "outputs": [],
   "source": [
    "# Šajā solī apstrādājam datus\n",
    "\n",
    "data = json.loads(forecast.text)\n",
    "current = data['current']\n",
    "hourly = data['hourly']\n",
    "daily = data['daily']\n",
    "\n",
    "# Laiks ir norādīts UTC laika zonā. Izmantojot atslēgu \"timezone_offset\" konvertējam laiku, lai tas atbilst pilsētas laika zonai\n",
    "# Konvertējam datumus un laikus no UNIX timestamp formāta uz cilvēkam saprotamu\n",
    "\n",
    "adjusted_time = current['dt']+forecast.json().get('timezone_offset')\n",
    "adjusted_sunrise = current['sunrise']+forecast.json().get('timezone_offset')\n",
    "adjusted_sunset = current['sunset']+forecast.json().get('timezone_offset')\n",
    "current['dt'] = dt.utcfromtimestamp(adjusted_time).strftime('%Y-%m-%d %H:%M')\n",
    "current['sunrise'] = dt.utcfromtimestamp(adjusted_sunrise).strftime('%H:%M')\n",
    "current['sunset'] = dt.utcfromtimestamp(adjusted_sunset).strftime('%H:%M')\n",
    "\n",
    "for i in range(0,len(hourly)):\n",
    "    adjusted_time = hourly[i]['dt']+forecast.json().get('timezone_offset')\n",
    "    hourly[i]['dt'] = dt.utcfromtimestamp(adjusted_time).strftime('%Y-%m-%d %H:%M')\n",
    "    \n",
    "for i in range(0,len(daily)):\n",
    "    adjusted_time = daily[i]['dt']+forecast.json().get('timezone_offset')\n",
    "    adjusted_sunrise = daily[i]['sunrise']+forecast.json().get('timezone_offset')\n",
    "    adjusted_sunset = daily[i]['sunset']+forecast.json().get('timezone_offset')\n",
    "    daily[i]['dt'] = dt.utcfromtimestamp(adjusted_time).strftime('%Y-%m-%d %H:%M')\n",
    "    daily[i]['mintemp'] = daily[i]['temp']['min']\n",
    "    daily[i]['maxtemp'] = daily[i]['temp']['max']\n",
    "    \n",
    "\n",
    "    \n",
    "# Saglabājam apstrādātus datus JSON failos talākai apstrādei izmantojot pandas\n",
    "\n",
    "with open(\"hourly.json\", \"w\", encoding=\"utf-8\") as f:\n",
    "    json.dump(hourly, f, indent=4)\n",
    "    \n",
    "with open(\"daily.json\", \"w\", encoding=\"utf-8\") as f:\n",
    "    json.dump(daily, f, indent=4)"
   ]
  },
  {
   "cell_type": "code",
   "execution_count": 5,
   "metadata": {},
   "outputs": [],
   "source": [
    "# ar Pandas palīdzību uztaisam stundu un temperatūru sarakstus\n",
    "h_data = pd.read_json (r'hourly.json')\n",
    "\n",
    "hours = list(h_data[\"dt\"])\n",
    "temp = list(h_data[\"temp\"])\n",
    "\n",
    "# izmantojot izveidotus sarakstus var uzzimēt grafiku caur Plotly\n",
    "\n",
    "fig = go.Figure()\n",
    "fig.add_trace(go.Scatter(x=hours[:13], y=temp, hoverinfo='y', mode='lines',\n",
    "                         line=dict(color='darkred', width=3)))\n",
    "fig.update_layout(title='Hourly forecast for next 12 hours',yaxis_range=[-40,40], xaxis_title='Time', yaxis_title='Temperature °C',)\n",
    "fig.update_yaxes(zeroline=True, zerolinewidth=2, zerolinecolor='LightBlue')\n",
    "fig.write_image(\"images/hourly.jpeg\")"
   ]
  },
  {
   "cell_type": "code",
   "execution_count": 6,
   "metadata": {},
   "outputs": [],
   "source": [
    "# atkartojam procesu ilgtermiņa prognozei\n",
    "\n",
    "d_data = pd.read_json (r'daily.json')\n",
    "\n",
    "days = list(d_data[\"dt\"])\n",
    "min_temp = list(d_data[\"mintemp\"])\n",
    "max_temp = list(d_data[\"maxtemp\"])\n",
    "\n",
    "fig = go.Figure()\n",
    "fig.add_trace(go.Scatter(x=days[:7], y=max_temp, name='Daily max °C', hoverinfo='y', mode='lines',\n",
    "                         line=dict(color='darkred', width=4)))\n",
    "fig.add_trace(go.Scatter(x=days[:7], y=min_temp, name='Daily min °C', hoverinfo='y', mode='lines',\n",
    "                         line=dict(color='darkblue', width=4)))\n",
    "fig.update_layout(title='Forecast for next 7 days',yaxis_range=[-40,40],\n",
    "                  xaxis_title='Time', yaxis_title='Temperature °C',)\n",
    "fig.update_yaxes(zeroline=True, zerolinewidth=2, zerolinecolor='LightBlue')\n",
    "fig.write_image(\"images/daily.jpeg\")"
   ]
  },
  {
   "cell_type": "code",
   "execution_count": 7,
   "metadata": {},
   "outputs": [],
   "source": [
    "# eksportējam atskaiti HTML formātā\n",
    "\n",
    "html = f'''\n",
    "<!DOCTYPE html>\n",
    "<html>\n",
    "    <head>\n",
    "        <title>{cityname} forecast</title>\n",
    "        <link rel=\"stylesheet\" type=\"text/css\" href=\"style.css\" />\n",
    "    </head>\n",
    "    <body>\n",
    "        <div class=\"header\"> \n",
    "            <h1>Weather in {cityname}</h1>\n",
    "        </div>\n",
    "        <div id=\"text_forecast\">\n",
    "            <h2>Current weather:</h2>\n",
    "            <p>Date: {current['dt']}<p>\n",
    "            <p>Sunrise: {current['sunrise']}</p>\n",
    "            <p>Sunset: {current['sunset']}</p>\n",
    "            <p>Temperature: {current['temp']}°C</p>\n",
    "            <p>Feels like: {current['feels_like']}°C</p>\n",
    "            <p>Ambient pressure: {current['pressure']}hPa</p>\n",
    "            <p>Humidity: {current['humidity']}%</p>\n",
    "        </div>\n",
    "        <div id=\"hourly_forecast\">\n",
    "            <img src=\"images\\hourly.jpeg\">\n",
    "        </div>\n",
    "        <div id=\"daily_forecast\">\n",
    "            <img src=\"images\\daily.jpeg\">\n",
    "        </div>\n",
    "    </body>\n",
    "</html>\n",
    "'''\n",
    "\n",
    "file = open(\"weather_report.html\",\"w\")\n",
    "file.write(html)\n",
    "file.close()"
   ]
  },
  {
   "cell_type": "code",
   "execution_count": null,
   "metadata": {},
   "outputs": [],
   "source": []
  }
 ],
 "metadata": {
  "kernelspec": {
   "display_name": "Python 3",
   "language": "python",
   "name": "python3"
  },
  "language_info": {
   "codemirror_mode": {
    "name": "ipython",
    "version": 3
   },
   "file_extension": ".py",
   "mimetype": "text/x-python",
   "name": "python",
   "nbconvert_exporter": "python",
   "pygments_lexer": "ipython3",
   "version": "3.8.5"
  }
 },
 "nbformat": 4,
 "nbformat_minor": 4
}
